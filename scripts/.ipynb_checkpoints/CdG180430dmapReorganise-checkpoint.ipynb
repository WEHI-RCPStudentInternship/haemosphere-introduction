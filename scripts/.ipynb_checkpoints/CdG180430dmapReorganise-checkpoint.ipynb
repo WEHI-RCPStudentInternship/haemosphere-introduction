{
 "cells": [
  {
   "cell_type": "code",
   "execution_count": 1,
   "metadata": {
    "scrolled": true
   },
   "outputs": [
    {
     "ename": "ImportError",
     "evalue": "dlopen(/Users/degraaf/anaconda/lib/python2.7/site-packages/rpy2/rinterface/_rinterface.so, 2): Library not loaded: libicuuc.54.dylib\n  Referenced from: /Users/degraaf/anaconda/lib/python2.7/site-packages/rpy2/rinterface/_rinterface.so\n  Reason: image not found",
     "output_type": "error",
     "traceback": [
      "\u001b[0;31m---------------------------------------------------------------------------\u001b[0m",
      "\u001b[0;31mImportError\u001b[0m                               Traceback (most recent call last)",
      "\u001b[0;32m<ipython-input-1-adf80ff130e7>\u001b[0m in \u001b[0;36m<module>\u001b[0;34m()\u001b[0m\n\u001b[1;32m      7\u001b[0m \u001b[0;32mfrom\u001b[0m \u001b[0mIPython\u001b[0m\u001b[0;34m.\u001b[0m\u001b[0mdisplay\u001b[0m \u001b[0;32mimport\u001b[0m \u001b[0mdisplay\u001b[0m\u001b[0;34m\u001b[0m\u001b[0m\n\u001b[1;32m      8\u001b[0m \u001b[0;32mimport\u001b[0m \u001b[0mpylab\u001b[0m\u001b[0;34m\u001b[0m\u001b[0m\n\u001b[0;32m----> 9\u001b[0;31m \u001b[0;32mfrom\u001b[0m \u001b[0mhaemosphere\u001b[0m\u001b[0;34m.\u001b[0m\u001b[0mmodels\u001b[0m \u001b[0;32mimport\u001b[0m \u001b[0mrfunctions\u001b[0m\u001b[0;34m,\u001b[0m \u001b[0mhsgeneset\u001b[0m\u001b[0;34m,\u001b[0m \u001b[0mhsdataset\u001b[0m\u001b[0;34m\u001b[0m\u001b[0m\n\u001b[0m",
      "\u001b[0;32m/Users/degraaf/haemosphere/haemosphere/haemosphere/__init__.py\u001b[0m in \u001b[0;36m<module>\u001b[0;34m()\u001b[0m\n\u001b[1;32m      5\u001b[0m \u001b[0;32mfrom\u001b[0m \u001b[0mpyramid_beaker\u001b[0m \u001b[0;32mimport\u001b[0m \u001b[0msession_factory_from_settings\u001b[0m\u001b[0;34m\u001b[0m\u001b[0m\n\u001b[1;32m      6\u001b[0m \u001b[0;34m\u001b[0m\u001b[0m\n\u001b[0;32m----> 7\u001b[0;31m \u001b[0;32mfrom\u001b[0m \u001b[0mviews\u001b[0m\u001b[0;34m.\u001b[0m\u001b[0mviews\u001b[0m \u001b[0;32mimport\u001b[0m \u001b[0mRootFactory\u001b[0m\u001b[0;34m\u001b[0m\u001b[0m\n\u001b[0m\u001b[1;32m      8\u001b[0m \u001b[0;32mfrom\u001b[0m \u001b[0mmodels\u001b[0m \u001b[0;32mimport\u001b[0m \u001b[0musers\u001b[0m\u001b[0;34m,\u001b[0m \u001b[0msharewould\u001b[0m\u001b[0;34m\u001b[0m\u001b[0m\n\u001b[1;32m      9\u001b[0m \u001b[0;34m\u001b[0m\u001b[0m\n",
      "\u001b[0;32m/Users/degraaf/haemosphere/haemosphere/haemosphere/views/views.py\u001b[0m in \u001b[0;36m<module>\u001b[0;34m()\u001b[0m\n\u001b[1;32m     12\u001b[0m \u001b[0;32mfrom\u001b[0m \u001b[0msqlalchemy\u001b[0m\u001b[0;34m.\u001b[0m\u001b[0morm\u001b[0m\u001b[0;34m.\u001b[0m\u001b[0mexc\u001b[0m \u001b[0;32mimport\u001b[0m \u001b[0mNoResultFound\u001b[0m\u001b[0;34m\u001b[0m\u001b[0m\n\u001b[1;32m     13\u001b[0m \u001b[0;34m\u001b[0m\u001b[0m\n\u001b[0;32m---> 14\u001b[0;31m \u001b[0;32mfrom\u001b[0m \u001b[0mhaemosphere\u001b[0m\u001b[0;34m.\u001b[0m\u001b[0mmodels\u001b[0m \u001b[0;32mimport\u001b[0m \u001b[0msharewould\u001b[0m\u001b[0;34m,\u001b[0m \u001b[0mhsdataset\u001b[0m\u001b[0;34m,\u001b[0m \u001b[0mhsgeneset\u001b[0m\u001b[0;34m,\u001b[0m \u001b[0musers\u001b[0m\u001b[0;34m,\u001b[0m \u001b[0mrfunctions\u001b[0m\u001b[0;34m\u001b[0m\u001b[0m\n\u001b[0m\u001b[1;32m     15\u001b[0m \u001b[0;32mfrom\u001b[0m \u001b[0mhaemosphere\u001b[0m\u001b[0;34m.\u001b[0m\u001b[0mmodels\u001b[0m\u001b[0;34m.\u001b[0m\u001b[0musers\u001b[0m \u001b[0;32mimport\u001b[0m \u001b[0mUser\u001b[0m\u001b[0;34m,\u001b[0m \u001b[0mGroup\u001b[0m\u001b[0;34m\u001b[0m\u001b[0m\n\u001b[1;32m     16\u001b[0m \u001b[0;34m\u001b[0m\u001b[0m\n",
      "\u001b[0;32m/Users/degraaf/haemosphere/haemosphere/haemosphere/models/rfunctions.py\u001b[0m in \u001b[0;36m<module>\u001b[0;34m()\u001b[0m\n\u001b[1;32m     10\u001b[0m \u001b[0;32mimport\u001b[0m \u001b[0mpandas\u001b[0m\u001b[0;34m,\u001b[0m \u001b[0msys\u001b[0m\u001b[0;34m\u001b[0m\u001b[0m\n\u001b[1;32m     11\u001b[0m \u001b[0;34m\u001b[0m\u001b[0m\n\u001b[0;32m---> 12\u001b[0;31m \u001b[0;32mfrom\u001b[0m \u001b[0mrpy2\u001b[0m\u001b[0;34m.\u001b[0m\u001b[0mrobjects\u001b[0m \u001b[0;32mimport\u001b[0m \u001b[0mpandas2ri\u001b[0m\u001b[0;34m,\u001b[0m \u001b[0mr\u001b[0m\u001b[0;34m,\u001b[0m \u001b[0mglobalenv\u001b[0m\u001b[0;34m\u001b[0m\u001b[0m\n\u001b[0m\u001b[1;32m     13\u001b[0m \u001b[0mpandas2ri\u001b[0m\u001b[0;34m.\u001b[0m\u001b[0mactivate\u001b[0m\u001b[0;34m(\u001b[0m\u001b[0;34m)\u001b[0m\u001b[0;34m\u001b[0m\u001b[0m\n\u001b[1;32m     14\u001b[0m \u001b[0;34m\u001b[0m\u001b[0m\n",
      "\u001b[0;32m/Users/degraaf/anaconda/lib/python2.7/site-packages/rpy2/robjects/__init__.py\u001b[0m in \u001b[0;36m<module>\u001b[0;34m()\u001b[0m\n\u001b[1;32m     13\u001b[0m \u001b[0;32mimport\u001b[0m \u001b[0mitertools\u001b[0m\u001b[0;34m\u001b[0m\u001b[0m\n\u001b[1;32m     14\u001b[0m \u001b[0;32mfrom\u001b[0m \u001b[0mdatetime\u001b[0m \u001b[0;32mimport\u001b[0m \u001b[0mdatetime\u001b[0m\u001b[0;34m\u001b[0m\u001b[0m\n\u001b[0;32m---> 15\u001b[0;31m \u001b[0;32mimport\u001b[0m \u001b[0mrpy2\u001b[0m\u001b[0;34m.\u001b[0m\u001b[0mrinterface\u001b[0m \u001b[0;32mas\u001b[0m \u001b[0mrinterface\u001b[0m\u001b[0;34m\u001b[0m\u001b[0m\n\u001b[0m\u001b[1;32m     16\u001b[0m \u001b[0;32mimport\u001b[0m \u001b[0mrpy2\u001b[0m\u001b[0;34m.\u001b[0m\u001b[0mrlike\u001b[0m\u001b[0;34m.\u001b[0m\u001b[0mcontainer\u001b[0m \u001b[0;32mas\u001b[0m \u001b[0mrlc\u001b[0m\u001b[0;34m\u001b[0m\u001b[0m\n\u001b[1;32m     17\u001b[0m \u001b[0;34m\u001b[0m\u001b[0m\n",
      "\u001b[0;32m/Users/degraaf/anaconda/lib/python2.7/site-packages/rpy2/rinterface/__init__.py\u001b[0m in \u001b[0;36m<module>\u001b[0;34m()\u001b[0m\n\u001b[1;32m     97\u001b[0m \u001b[0;34m\u001b[0m\u001b[0m\n\u001b[1;32m     98\u001b[0m \u001b[0;34m\u001b[0m\u001b[0m\n\u001b[0;32m---> 99\u001b[0;31m \u001b[0;32mfrom\u001b[0m \u001b[0mrpy2\u001b[0m\u001b[0;34m.\u001b[0m\u001b[0mrinterface\u001b[0m\u001b[0;34m.\u001b[0m\u001b[0m_rinterface\u001b[0m \u001b[0;32mimport\u001b[0m \u001b[0;34m*\u001b[0m\u001b[0;34m\u001b[0m\u001b[0m\n\u001b[0m\u001b[1;32m    100\u001b[0m \u001b[0;34m\u001b[0m\u001b[0m\n\u001b[1;32m    101\u001b[0m \u001b[0;34m\u001b[0m\u001b[0m\n",
      "\u001b[0;31mImportError\u001b[0m: dlopen(/Users/degraaf/anaconda/lib/python2.7/site-packages/rpy2/rinterface/_rinterface.so, 2): Library not loaded: libicuuc.54.dylib\n  Referenced from: /Users/degraaf/anaconda/lib/python2.7/site-packages/rpy2/rinterface/_rinterface.so\n  Reason: image not found"
     ]
    }
   ],
   "source": [
    "## This is to clean up the existing human dataset\n",
    "# Want to change the colour scheme\n",
    "\n",
    "\n",
    "import os, sys, pandas\n",
    "import genedataset\n",
    "from IPython.display import display\n",
    "import pylab\n",
    "from haemosphere.models import rfunctions, hsgeneset, hsdataset"
   ]
  },
  {
   "cell_type": "code",
   "execution_count": 41,
   "metadata": {
    "scrolled": false
   },
   "outputs": [
    {
     "name": "stdout",
     "output_type": "stream",
     "text": [
      "{'platform_type': 'RNASeq', 'version': '1.3', 'name': 'Haemopedia-Human-RNASeq', 'pubmed_id': 'TBC', 'fullname': 'Haemopedia Human RNASeq Data', 'species': 'HomoSapiens', 'platform_details': 'Illumina RNASeq', 'description': 'Human RNASeq Data'} \n",
      "\n"
     ]
    },
    {
     "data": {
      "text/plain": [
       "{'cell_lineage': {'B Cell Lineage': 'rgb(0,0,255)',\n",
       "  'Basophil Lineage': 'rgb(205,55,0)',\n",
       "  'Dendritic Cell Lineage': 'rgb(30,144,255)',\n",
       "  'Eosinophil Lineage': 'rgb(255,140,105)',\n",
       "  'Erythrocyte Lineage': 'rgb(139,0,0)',\n",
       "  'Macrophage Lineage': 'rgb(171,130,255)',\n",
       "  'Mast Cell Lineage': 'rgb(255,20,147)',\n",
       "  'Megakaryocyte Lineage': 'rgb(238,180,34)',\n",
       "  'Multi Potential Progenitor': 'rgb(190,190,190)',\n",
       "  'NK Cell Lineage': 'rgb(34,139,34)',\n",
       "  'Neutrophil Lineage': 'rgb(104,34,139)',\n",
       "  'Restricted Potential Progenitor': 'rgb(127,127,127)',\n",
       "  'T Cell Lineage': 'rgb(0,255,0)'}}"
      ]
     },
     "metadata": {},
     "output_type": "display_data"
    },
    {
     "name": "stdout",
     "output_type": "stream",
     "text": [
      "9\n",
      "/dataframe/cpm\n",
      "/dataframe/rpkm\n",
      "/dataframe/sampleDistances\n",
      "/dataframe/samples\n",
      "/series/attributes\n",
      "/series/sampleGroupColours\n",
      "/series/sampleGroupOrdering\n",
      "/series/sampleGroupsDisplayed\n",
      "/dataframe/counts\n",
      "/dataframe/cpm\n",
      "/dataframe/rpkm\n",
      "/dataframe/sampleDistances\n",
      "/dataframe/samples\n",
      "{'description': 'Human homologs of Hiltonlab (mouse) celltypes', 'platform_details': 'RNASeq', 'platform_type': 'rna-seq', 'version': '1.3', 'pubmed_id': None, 'fullname': 'Haemopedia Human RNASeq Data', 'species': 'HomoSapiens', 'name': 'Haemopedia-Human-RNASeq'}\n",
      "/series/attributes\n",
      "{'cell_lineage': {'Multi Potential Progenitor': '#bfbfbf', 'Erythrocyte Lineage': '#ff0000', 'Mast Cell Lineage': '#c9c9ff', 'Cell Line': 'rgb(101,67,33)', 'Non-haematopoietic': '#000000', 'Eosinophil Lineage': '#ffa363', 'Macrophage Lineage': '#ffdbed', 'Dendritic Cell Lineage': '#993200', 'NK Cell Lineage': '#99ffcc', 'Basophil Lineage': '#-7f4c7f', 'T Cell Lineage': '#004702', 'Neutrophil Lineage': '#8426d8', 'Megakaryocyte Lineage': '#ffb200', 'B Cell Lineage': '#edffcc'}}\n",
      "{'cell_lineage': {'B Cell Lineage': 'rgb(0,0,255)', 'Multi Potential Progenitor': 'rgb(190,190,190)', 'Erythrocyte Lineage': 'rgb(139,0,0)', 'Mast Cell Lineage': 'rgb(255,20,147)', 'NK Cell Lineage': 'rgb(34,139,34)', 'Eosinophil Lineage': 'rgb(255,140,105)', 'Macrophage Lineage': 'rgb(171,130,255)', 'Dendritic Cell Lineage': 'rgb(30,144,255)', 'Basophil Lineage': 'rgb(205,55,0)', 'T Cell Lineage': 'rgb(0,255,0)', 'Neutrophil Lineage': 'rgb(104,34,139)', 'Megakaryocyte Lineage': 'rgb(238,180,34)', 'Restricted Potential Progenitor': 'rgb(127,127,127)'}}\n",
      "/series/sampleGroupColours\n",
      "/series/sampleGroupOrdering\n",
      "/series/sampleGroupsDisplayed\n",
      "finished\n"
     ]
    },
    {
     "name": "stderr",
     "output_type": "stream",
     "text": [
      "/Users/degraaf/anaconda/lib/python2.7/site-packages/ipykernel_launcher.py:114: PerformanceWarning: \n",
      "your performance may suffer as PyTables will pickle object types that it cannot\n",
      "map directly to c-types [inferred_type->mixed,key->block0_values] [items->['celltype', 'cell_lineage', 'surface_markers', 'description', 'donor']]\n",
      "\n",
      "/Users/degraaf/anaconda/lib/python2.7/site-packages/ipykernel_launcher.py:114: PerformanceWarning: \n",
      "your performance may suffer as PyTables will pickle object types that it cannot\n",
      "map directly to c-types [inferred_type->mixed,key->values] [items->None]\n",
      "\n"
     ]
    }
   ],
   "source": [
    "def create_dataset():\n",
    "    '''2018-04-30. Edit the DMAP dataset from sources'''\n",
    "    \n",
    "    #have to set this up on my laptop?\n",
    "    #from haemosphere.models import hsgeneset, hsdataset, rfunctions \n",
    "    \n",
    "    \n",
    "    \n",
    "      \n",
    "    \n",
    "    # Read lineage colours from haemopedia\n",
    "    \n",
    "    ##i have the colours in my datafile so this probably isn't the best way to do it...\n",
    "    hp = hsdataset.HSDataset('../haemosphere/data/datasets/F0r3sT/PUBLIC/haemopedia.2.7.h5')\n",
    "    sampleGroupColours = hp.sampleGroupColours()\n",
    "    display(sampleGroupColours)\n",
    "    \n",
    "\n",
    "    \n",
    "    \n",
    "    \n",
    "    store = pandas.HDFStore(\"../haemosphere/data/datasets/F0r3sT/PUBLIC/dmap.1.2.h5\")\n",
    "    print(len(store.keys()))\n",
    "    for key in  range(1,9):\n",
    "        value = store[store.keys()[key]]\n",
    "        print(store.keys()[key])\n",
    "        #print(value)\n",
    "    #print(store[\"/dataframe/samples\"])\n",
    "   \n",
    "    #have now found the sample information, so can recreate the file\n",
    "    \n",
    "    newStore = pandas.HDFStore(\"../datasets/humanRNASeq/dmap.1.3.h5\")\n",
    "    for key in store.keys():\n",
    "        value = store[key]\n",
    "        if key==\"/series/sampleGroupColours\":   # or another matching key that you want to update\n",
    "            value = value.to_dict()   # the value would be stored as pandas Series object, so convert to dict\n",
    "            print(value)\n",
    "            # ... make changes to value here eg. value[\"cell_lineage\"][\"B Cell Lineage\"] = \"#cccccc\"\n",
    "            value = sampleGroupColours\n",
    "            print(value)\n",
    "            value = pandas.Series(value)   # convert back into pandas Series\n",
    "        elif key==\"/series/attributes\":  # update the dataset version\n",
    "            value = value.to_dict()\n",
    "            value[\"version\"] = \"1.3\"  # or whatever\n",
    "            print(value)\n",
    "            value = pandas.Series(value)\n",
    "\n",
    "        # now write the value into newStore\n",
    "        print(key)\n",
    "        newStore[key] = value\n",
    "\n",
    "    store.close()\n",
    "    newStore.close()\n",
    "    \n",
    "    \n",
    "    \n",
    "    \n",
    "    #humanData = hsdataset.HSDataset('../haemosphere/data/datasets/F0r3sT/PRIVATE/users/wilson/CSL-RNASeq.1.2.h5')\n",
    "    \n",
    "    #sampleGroupColours = humanData.sampleGroupColours()\n",
    "    #display(sampleGroupColours)\n",
    "    \n",
    "    \n",
    "    # sampleGroupOrdering - as above - but worse as I have some extra cell types not in general haemopedia\n",
    "    #sampleGroupOrdering = pandas.read_hdf(hp.filepath, '/series/sampleGroupOrdering')\n",
    "    #display(sampleGroupOrdering)\n",
    " \n",
    "    #display(humanData.sampleGroupOrdering)\n",
    "    \n",
    "    ## Edit here\n",
    "    # Select attributes that can later be used as factors in any differential expression calculation\n",
    "    #things that are numeric (like age) won't work here if there are too many options, want to have a few groups to compare\n",
    "    \n",
    "    #first one will be the default group used to separate data\n",
    "    \n",
    "    #sampleGroupsDisplayed = [\"celltype\",\"cell_lineage\",\"genotype\",\"cellTypeNoGenotype\"]\n",
    "    #commented out to bug hunt\n",
    "    \n",
    "    #sampleGroupsDisplayed = [\"celltype\",\"cell_lineage\"]\n",
    "    ## works when only these two groups are used\n",
    "       \n",
    "    #print(humanData.attributes)\n",
    "    \n",
    "    ### Edit here\n",
    "    #ds = hsdataset.createDatasetFile(\"../datasets/humanRNASeq/\",\n",
    "    #                                name='Haemopedia_RNASeq_Human', \n",
    "    #                                attributes=attributes,\n",
    "     #                               samples = store[\"/dataframe/samples\"] , \n",
    "     #                               counts=store[\"/dataframe/counts\"],\n",
    "     #                               cpm=store[\"/dataframe/cpm\"],\n",
    "     #                               rpkm=store[\"/dataframe/rpkm\"],\n",
    "     #                               sampleDistances=humanData.sampleDistances,\n",
    "     #                          #     sampleGroupsDisplayed=humanData.sampleGroupsDisplayed,\n",
    "                               #     sampleGroupOrdering=humanData.sampleGroupOrdering,\n",
    "     #                               sampleGroupColours=hp.sampleGroupColours)\n",
    "    ## Note if I have to remake the hd5 file, delete the old one before rerunning this\n",
    "    print \"finished\"\n",
    "\n",
    "create_dataset()"
   ]
  },
  {
   "cell_type": "code",
   "execution_count": null,
   "metadata": {
    "collapsed": true
   },
   "outputs": [],
   "source": []
  }
 ],
 "metadata": {
  "kernelspec": {
   "display_name": "Python 2",
   "language": "python",
   "name": "python2"
  },
  "language_info": {
   "codemirror_mode": {
    "name": "ipython",
    "version": 2
   },
   "file_extension": ".py",
   "mimetype": "text/x-python",
   "name": "python",
   "nbconvert_exporter": "python",
   "pygments_lexer": "ipython2",
   "version": "2.7.13"
  }
 },
 "nbformat": 4,
 "nbformat_minor": 1
}
